{
 "cells": [
  {
   "cell_type": "code",
   "execution_count": 11,
   "metadata": {},
   "outputs": [],
   "source": [
    "# !pip install pywhatkit\n",
    "# !pip install six.moves\n",
    "\n",
    "import urllib.request as ur\n",
    "import re\n",
    "import csv\n",
    "\n"
   ]
  },
  {
   "cell_type": "code",
   "execution_count": null,
   "metadata": {},
   "outputs": [],
   "source": [
    "html = ur.urlopen('https://www.youtube.com/results?search_query=BlackAdam+official+Trailer')\n",
    "\n",
    "videoId = re.findall(r\"watch\\?v=(\\S{11})\",html.read().decode())\n",
    "\n",
    "# print(videoId)\n",
    "print(\"https://www.youtube.com/watch?v=\"+videoId[0])"
   ]
  },
  {
   "cell_type": "code",
   "execution_count": 18,
   "metadata": {},
   "outputs": [
    {
     "name": "stdout",
     "output_type": "stream",
     "text": [
      "Items saved successfully (or errors logged) to 'my_items.csv'\n"
     ]
    }
   ],
   "source": [
    "import csv\n",
    "import urllib.request  # Import the correct library for opening URLs\n",
    "\n",
    "# Define the CSV file path (replace with your actual file path)\n",
    "csv_file_path = \"list.csv\"  # Update with your CSV file name\n",
    "\n",
    "# Open the CSV file in read mode with error handling\n",
    "try:\n",
    "    with open(csv_file_path, \"r\") as csvfile:\n",
    "        reader = csv.reader(csvfile)\n",
    "        items = []  # Create an empty list to store items from CSV\n",
    "\n",
    "        # Read each row from the CSV and append items to the list\n",
    "        for row in reader:\n",
    "            items.append(row[0])  # Assuming the first column contains items\n",
    "\n",
    "except OSError as e:\n",
    "    print(\"Error opening CSV file:\", e)\n",
    "    exit()  # Exit the program if there's an error\n",
    "\n",
    "# Open the CSV file in write mode with error handling (same as before)\n",
    "# ... (rest of the code remains the same, starting with `try:`)\n",
    "\n",
    "print(\"Items saved successfully (or errors logged) to 'my_items.csv'\")\n"
   ]
  },
  {
   "cell_type": "code",
   "execution_count": 19,
   "metadata": {},
   "outputs": [
    {
     "name": "stdout",
     "output_type": "stream",
     "text": [
      "Items saved successfully (or errors logged) to 'my_items.csv'\n"
     ]
    }
   ],
   "source": [
    "import csv\n",
    "import urllib.request  # Import the correct library for opening URLs\n",
    "\n",
    "# Define your list of items\n",
    "# items = [\"BlackAdam\", \"TheBeekeeper\", \"IronMan\"]\n",
    "\n",
    "# Open the CSV file in write mode with error handling\n",
    "try:\n",
    "    with open(\"my_items2.csv\", \"w\", newline=\"\") as csvfile:\n",
    "        writer = csv.writer(csvfile)\n",
    "        writer.writerow([\"YTLink\"])  # Assuming you want only YouTube links\n",
    "\n",
    "        # Loop through the list and write YouTube links to the CSV\n",
    "        for item in items:\n",
    "            url = f\"https://www.youtube.com/results?search_query={item}+officialTrailer\"  # Use f-string for cleaner formatting\n",
    "            try:\n",
    "                with urllib.request.urlopen(url) as response:\n",
    "                    html_content = response.read().decode()\n",
    "                    video_id = re.findall(r\"watch\\?v=(\\S{11})\", html_content)\n",
    "                    if video_id:  # Check if video IDs are found\n",
    "                        youtube_link = f\"https://www.youtube.com/watch?v={video_id[0]}\"\n",
    "                        writer.writerow([youtube_link])\n",
    "                    else:\n",
    "                        writer.writerow([\"No video found for {}\".format(item)])  # Handle cases where no video is found\n",
    "            except urllib.error.URLError as e:\n",
    "                writer.writerow([\"Error fetching link for {}: {}\".format(item, e)])  # Handle URL errors\n",
    "\n",
    "except OSError as e:  # Handle file system errors\n",
    "    print(\"Error creating CSV file:\", e)\n",
    "\n",
    "print(\"Items saved successfully (or errors logged) to 'my_items.csv'\")\n"
   ]
  },
  {
   "cell_type": "code",
   "execution_count": 16,
   "metadata": {},
   "outputs": [
    {
     "name": "stdout",
     "output_type": "stream",
     "text": [
      "https://www.youtube.com/watch?v=X0tOpBuYasI\n"
     ]
    }
   ],
   "source": [
    "\n",
    "\n",
    "html = ur.urlopen('https://www.youtube.com/results?search_query=BlackAdam+official+Trailer')\n",
    "\n",
    "videoId = re.findall(r\"watch\\?v=(\\S{11})\",html.read().decode())\n",
    "\n",
    "# print(videoId)\n",
    "print(\"https://www.youtube.com/watch?v=\"+videoId[0])\n"
   ]
  }
 ],
 "metadata": {
  "kernelspec": {
   "display_name": "BSIMDB2",
   "language": "python",
   "name": "python3"
  },
  "language_info": {
   "codemirror_mode": {
    "name": "ipython",
    "version": 3
   },
   "file_extension": ".py",
   "mimetype": "text/x-python",
   "name": "python",
   "nbconvert_exporter": "python",
   "pygments_lexer": "ipython3",
   "version": "3.12.2"
  }
 },
 "nbformat": 4,
 "nbformat_minor": 2
}
